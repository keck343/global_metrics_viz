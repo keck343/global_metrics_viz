{
 "cells": [
  {
   "cell_type": "code",
   "execution_count": 1,
   "metadata": {},
   "outputs": [],
   "source": [
    "import pandas as pd\n",
    "import numpy as np\n",
    "import warnings\n",
    "warnings.filterwarnings('ignore')"
   ]
  },
  {
   "cell_type": "code",
   "execution_count": 2,
   "metadata": {},
   "outputs": [],
   "source": [
    "all_data = pd.read_csv(\"country_rows_df.csv\")"
   ]
  },
  {
   "cell_type": "code",
   "execution_count": 3,
   "metadata": {},
   "outputs": [],
   "source": [
    "all_data[152:158].to_csv(\"region_rows.csv\")"
   ]
  },
  {
   "cell_type": "code",
   "execution_count": 4,
   "metadata": {},
   "outputs": [],
   "source": [
    "regions = all_data[152:158]\n",
    "countries = all_data[0:152]"
   ]
  },
  {
   "cell_type": "code",
   "execution_count": 5,
   "metadata": {},
   "outputs": [
    {
     "data": {
      "text/html": [
       "<div>\n",
       "<style scoped>\n",
       "    .dataframe tbody tr th:only-of-type {\n",
       "        vertical-align: middle;\n",
       "    }\n",
       "\n",
       "    .dataframe tbody tr th {\n",
       "        vertical-align: top;\n",
       "    }\n",
       "\n",
       "    .dataframe thead th {\n",
       "        text-align: right;\n",
       "    }\n",
       "</style>\n",
       "<table border=\"1\" class=\"dataframe\">\n",
       "  <thead>\n",
       "    <tr style=\"text-align: right;\">\n",
       "      <th></th>\n",
       "      <th>Infant mortality</th>\n",
       "      <th>Credit Rating</th>\n",
       "      <th>Life expectancy</th>\n",
       "      <th>GDP</th>\n",
       "      <th>Imports% of GPD</th>\n",
       "      <th>Exports% of GPD</th>\n",
       "    </tr>\n",
       "    <tr>\n",
       "      <th>Name</th>\n",
       "      <th></th>\n",
       "      <th></th>\n",
       "      <th></th>\n",
       "      <th></th>\n",
       "      <th></th>\n",
       "      <th></th>\n",
       "    </tr>\n",
       "  </thead>\n",
       "  <tbody>\n",
       "    <tr>\n",
       "      <th>Albania</th>\n",
       "      <td>12.5</td>\n",
       "      <td>39.250000</td>\n",
       "      <td>78.014465</td>\n",
       "      <td>34.154999</td>\n",
       "      <td>52.617275</td>\n",
       "      <td>37.709357</td>\n",
       "    </tr>\n",
       "    <tr>\n",
       "      <th>Algeria</th>\n",
       "      <td>21.9</td>\n",
       "      <td>47.804526</td>\n",
       "      <td>75.042534</td>\n",
       "      <td>612.513000</td>\n",
       "      <td>35.478399</td>\n",
       "      <td>20.139221</td>\n",
       "    </tr>\n",
       "    <tr>\n",
       "      <th>Argentina</th>\n",
       "      <td>11.1</td>\n",
       "      <td>27.710565</td>\n",
       "      <td>76.334221</td>\n",
       "      <td>874.072022</td>\n",
       "      <td>13.768635</td>\n",
       "      <td>12.884663</td>\n",
       "    </tr>\n",
       "    <tr>\n",
       "      <th>Armenia</th>\n",
       "      <td>12.6</td>\n",
       "      <td>36.939397</td>\n",
       "      <td>74.797119</td>\n",
       "      <td>25.783001</td>\n",
       "      <td>47.577484</td>\n",
       "      <td>32.010858</td>\n",
       "    </tr>\n",
       "    <tr>\n",
       "      <th>Australia</th>\n",
       "      <td>3.0</td>\n",
       "      <td>90.011364</td>\n",
       "      <td>82.451218</td>\n",
       "      <td>1187.321045</td>\n",
       "      <td>19.987307</td>\n",
       "      <td>19.337074</td>\n",
       "    </tr>\n",
       "  </tbody>\n",
       "</table>\n",
       "</div>"
      ],
      "text/plain": [
       "           Infant mortality  Credit Rating  Life expectancy          GDP  \\\n",
       "Name                                                                       \n",
       "Albania                12.5      39.250000        78.014465    34.154999   \n",
       "Algeria                21.9      47.804526        75.042534   612.513000   \n",
       "Argentina              11.1      27.710565        76.334221   874.072022   \n",
       "Armenia                12.6      36.939397        74.797119    25.783001   \n",
       "Australia               3.0      90.011364        82.451218  1187.321045   \n",
       "\n",
       "           Imports% of GPD  Exports% of GPD  \n",
       "Name                                         \n",
       "Albania          52.617275        37.709357  \n",
       "Algeria          35.478399        20.139221  \n",
       "Argentina        13.768635        12.884663  \n",
       "Armenia          47.577484        32.010858  \n",
       "Australia        19.987307        19.337074  "
      ]
     },
     "execution_count": 5,
     "metadata": {},
     "output_type": "execute_result"
    }
   ],
   "source": [
    "countries_measures = countries[['Name', 'Infant mortality, deaths/1,000 live births*', \n",
    "                                'Country credit rating, 0–100 (best)*', \n",
    "         'Life expectancy, years*', 'GDP (PPP$ billions)*', \n",
    "                                'Imports as a percentage of GDP*',\n",
    "        'Exports as a percentage of GDP*']].set_index('Name')\n",
    "\n",
    "countries_measures.columns = ['Infant mortality', 'Credit Rating', 'Life expectancy', \n",
    "                              'GDP', \n",
    "                           'Imports% of GPD', 'Exports% of GPD']\n",
    "\n",
    "countries_measures = countries_measures.dropna()\n",
    "\n",
    "countries_measures.head()\n"
   ]
  },
  {
   "cell_type": "code",
   "execution_count": 13,
   "metadata": {},
   "outputs": [
    {
     "data": {
      "text/plain": [
       "<matplotlib.colorbar.Colorbar at 0x124a5a518>"
      ]
     },
     "execution_count": 13,
     "metadata": {},
     "output_type": "execute_result"
    },
    {
     "data": {
      "image/png": "[encoded data removed]",
      "text/plain": [
       "<Figure size 720x720 with 2 Axes>"
      ]
     },
     "metadata": {
      "needs_background": "light"
     },
     "output_type": "display_data"
    }
   ],
   "source": [
    "import matplotlib.pyplot as plt\n",
    "\n",
    "corr = countries_measures.corr()\n",
    "corr.style.background_gradient(cmap='coolwarm').set_precision(2)\n",
    "fig, ax = plt.subplots(figsize=(10, 10))\n",
    "ax.matshow(corr)\n",
    "corr.style.background_gradient(cmap='coolwarm').set_precision(2)\n",
    "plt.xticks(range(len(corr.columns)), corr.columns, rotation='vertical');\n",
    "plt.yticks(range(len(corr.columns)), corr.columns);\n",
    "figure_title = 'Correlations in Economic and Health Metrics\\n\\n'\n",
    "plt.title(figure_title, y=1.15)\n",
    "cax = ax.imshow(corr, interpolation=\"nearest\")\n",
    "fig.colorbar(cax, ticks=[-.915, -.8, -.6, -.4, -.2, 0,.2,.4,.6,.8,1])\n"
   ]
  },
  {
   "cell_type": "code",
   "execution_count": null,
   "metadata": {},
   "outputs": [],
   "source": []
  }
 ],
 "metadata": {
  "kernelspec": {
   "display_name": "Python 3",
   "language": "python",
   "name": "python3"
  },
  "language_info": {
   "codemirror_mode": {
    "name": "ipython",
    "version": 3
   },
   "file_extension": ".py",
   "mimetype": "text/x-python",
   "name": "python",
   "nbconvert_exporter": "python",
   "pygments_lexer": "ipython3",
   "version": "3.7.1"
  }
 },
 "nbformat": 4,
 "nbformat_minor": 2
}
